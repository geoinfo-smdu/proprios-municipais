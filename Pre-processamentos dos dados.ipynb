{
 "cells": [
  {
   "cell_type": "code",
   "execution_count": 13,
   "source": [
    "import pyPelias\n",
    "import pandas as pd"
   ],
   "outputs": [],
   "metadata": {}
  },
  {
   "cell_type": "code",
   "execution_count": 14,
   "source": [
    "df = pd.read_excel('dados/proprios_geosampa.xlsx')"
   ],
   "outputs": [],
   "metadata": {}
  },
  {
   "cell_type": "code",
   "execution_count": 15,
   "source": [
    "## Remover as vírgulas dos enderecos\n",
    "df.endereco = df.endereco.str.replace(',', '').str.replace('  ', ' ')"
   ],
   "outputs": [],
   "metadata": {}
  },
  {
   "cell_type": "code",
   "execution_count": 16,
   "source": [
    "## Remover os pontos dos enderecos\n",
    "df.endereco = df.endereco.str.replace('.', '', regex=False)"
   ],
   "outputs": [],
   "metadata": {}
  },
  {
   "cell_type": "code",
   "execution_count": 17,
   "source": [
    "## Remover qualquer text depois do hífen\n",
    "df.endereco = df.endereco.str.split('-', expand=True)[0]"
   ],
   "outputs": [],
   "metadata": {}
  },
  {
   "cell_type": "code",
   "execution_count": 18,
   "source": [
    "## Remover ocorrência de 'nº'\n",
    "df.endereco = df.endereco.str.replace('nº', '', regex=False)"
   ],
   "outputs": [],
   "metadata": {}
  },
  {
   "cell_type": "code",
   "execution_count": 19,
   "source": [
    "df.set_index('id', inplace=True)"
   ],
   "outputs": [],
   "metadata": {}
  },
  {
   "cell_type": "code",
   "execution_count": 20,
   "source": [
    "## TRatando endereços nulos\n",
    "df.loc[df.endereco.isna(), 'endereco'] = df.loc[df.endereco.isna(), 'denominacao_atual']"
   ],
   "outputs": [],
   "metadata": {}
  },
  {
   "cell_type": "code",
   "execution_count": 21,
   "source": [
    "df"
   ],
   "outputs": [
    {
     "output_type": "execute_result",
     "data": {
      "text/plain": [
       "                       denominacao_atual                            endereco  \\\n",
       "id                                                                             \n",
       "11                CEI PADRE ANTON MEROTH                      R GANIMEDES 27   \n",
       "13                       CEI ARTUR ALVIM                       R BOIPEVA S/N   \n",
       "18                 CEI BARBARA HELIODORA         R JOSE FRANCISCO BRANDAO 80   \n",
       "19                   CEI BARRO BRANCO II  R ANTONIO CARLOS MINGUES LOPES S/N   \n",
       "21           CEI VEREADOR BENEDITO ROCHA                 R DENIS CHAUDET 150   \n",
       "...                                  ...                                 ...   \n",
       "7409              CEI FLORESTA ENCANTADA               Rua Luísa Sarazim 235   \n",
       "7410                      CEU SÃO MIGUEL        Rua José Ferreira Crespo 495   \n",
       "7411  BIBLIOTECA CAROLINA MARIA DE JESUS                    CEU PARELHEIROS    \n",
       "7412                  SALA PAULO GUSTAVO     Centro Cultural Municipal Olido   \n",
       "7413      ESTÁDIO DE GATEBALL TORU HONDO    Rua Lussanvira  178 Vila Guarani   \n",
       "\n",
       "                      bairro     distrito        secretaria  \\\n",
       "id                                                            \n",
       "11                       NaN          NaN               NaN   \n",
       "13                       NaN  ARTUR ALVIM          EDUCAÇÃO   \n",
       "18                       NaN   GUAIANASES          EDUCAÇÃO   \n",
       "19                       NaN   GUAIANASES          EDUCAÇÃO   \n",
       "21                       NaN   VILA SONIA          EDUCAÇÃO   \n",
       "...                      ...          ...               ...   \n",
       "7409                     NaN     IGUATEMI          EDUCAÇÃO   \n",
       "7410                     NaN   SÃO MIGUEL          EDUCAÇÃO   \n",
       "7411                     NaN  PARELHEIROS          EDUCAÇÃO   \n",
       "7412                     NaN           SÉ           CULTURA   \n",
       "7413  V. GUARANI (JABAQUARA)    JABAQUARA  ESPORTES E LAZER   \n",
       "\n",
       "                                              historico  \n",
       "id                                                       \n",
       "11    Padre Anton Meroth, nascido no dia 05 de novem...  \n",
       "13                                                  NaN  \n",
       "18                                                  NaN  \n",
       "19                                                  NaN  \n",
       "21                                                  NaN  \n",
       "...                                                 ...  \n",
       "7409                                                NaN  \n",
       "7410        CEU denominado de acordo com a localização.  \n",
       "7411  Carolina Maria de Jesus foi uma escritora mine...  \n",
       "7412  Paulo Gustavo:  ator, comediante, roteirista, ...  \n",
       "7413  Toru Hondo, brasileiro naturalizado, nascido n...  \n",
       "\n",
       "[3778 rows x 6 columns]"
      ],
      "text/html": [
       "<div>\n",
       "<style scoped>\n",
       "    .dataframe tbody tr th:only-of-type {\n",
       "        vertical-align: middle;\n",
       "    }\n",
       "\n",
       "    .dataframe tbody tr th {\n",
       "        vertical-align: top;\n",
       "    }\n",
       "\n",
       "    .dataframe thead th {\n",
       "        text-align: right;\n",
       "    }\n",
       "</style>\n",
       "<table border=\"1\" class=\"dataframe\">\n",
       "  <thead>\n",
       "    <tr style=\"text-align: right;\">\n",
       "      <th></th>\n",
       "      <th>denominacao_atual</th>\n",
       "      <th>endereco</th>\n",
       "      <th>bairro</th>\n",
       "      <th>distrito</th>\n",
       "      <th>secretaria</th>\n",
       "      <th>historico</th>\n",
       "    </tr>\n",
       "    <tr>\n",
       "      <th>id</th>\n",
       "      <th></th>\n",
       "      <th></th>\n",
       "      <th></th>\n",
       "      <th></th>\n",
       "      <th></th>\n",
       "      <th></th>\n",
       "    </tr>\n",
       "  </thead>\n",
       "  <tbody>\n",
       "    <tr>\n",
       "      <th>11</th>\n",
       "      <td>CEI PADRE ANTON MEROTH</td>\n",
       "      <td>R GANIMEDES 27</td>\n",
       "      <td>NaN</td>\n",
       "      <td>NaN</td>\n",
       "      <td>NaN</td>\n",
       "      <td>Padre Anton Meroth, nascido no dia 05 de novem...</td>\n",
       "    </tr>\n",
       "    <tr>\n",
       "      <th>13</th>\n",
       "      <td>CEI ARTUR ALVIM</td>\n",
       "      <td>R BOIPEVA S/N</td>\n",
       "      <td>NaN</td>\n",
       "      <td>ARTUR ALVIM</td>\n",
       "      <td>EDUCAÇÃO</td>\n",
       "      <td>NaN</td>\n",
       "    </tr>\n",
       "    <tr>\n",
       "      <th>18</th>\n",
       "      <td>CEI BARBARA HELIODORA</td>\n",
       "      <td>R JOSE FRANCISCO BRANDAO 80</td>\n",
       "      <td>NaN</td>\n",
       "      <td>GUAIANASES</td>\n",
       "      <td>EDUCAÇÃO</td>\n",
       "      <td>NaN</td>\n",
       "    </tr>\n",
       "    <tr>\n",
       "      <th>19</th>\n",
       "      <td>CEI BARRO BRANCO II</td>\n",
       "      <td>R ANTONIO CARLOS MINGUES LOPES S/N</td>\n",
       "      <td>NaN</td>\n",
       "      <td>GUAIANASES</td>\n",
       "      <td>EDUCAÇÃO</td>\n",
       "      <td>NaN</td>\n",
       "    </tr>\n",
       "    <tr>\n",
       "      <th>21</th>\n",
       "      <td>CEI VEREADOR BENEDITO ROCHA</td>\n",
       "      <td>R DENIS CHAUDET 150</td>\n",
       "      <td>NaN</td>\n",
       "      <td>VILA SONIA</td>\n",
       "      <td>EDUCAÇÃO</td>\n",
       "      <td>NaN</td>\n",
       "    </tr>\n",
       "    <tr>\n",
       "      <th>...</th>\n",
       "      <td>...</td>\n",
       "      <td>...</td>\n",
       "      <td>...</td>\n",
       "      <td>...</td>\n",
       "      <td>...</td>\n",
       "      <td>...</td>\n",
       "    </tr>\n",
       "    <tr>\n",
       "      <th>7409</th>\n",
       "      <td>CEI FLORESTA ENCANTADA</td>\n",
       "      <td>Rua Luísa Sarazim 235</td>\n",
       "      <td>NaN</td>\n",
       "      <td>IGUATEMI</td>\n",
       "      <td>EDUCAÇÃO</td>\n",
       "      <td>NaN</td>\n",
       "    </tr>\n",
       "    <tr>\n",
       "      <th>7410</th>\n",
       "      <td>CEU SÃO MIGUEL</td>\n",
       "      <td>Rua José Ferreira Crespo 495</td>\n",
       "      <td>NaN</td>\n",
       "      <td>SÃO MIGUEL</td>\n",
       "      <td>EDUCAÇÃO</td>\n",
       "      <td>CEU denominado de acordo com a localização.</td>\n",
       "    </tr>\n",
       "    <tr>\n",
       "      <th>7411</th>\n",
       "      <td>BIBLIOTECA CAROLINA MARIA DE JESUS</td>\n",
       "      <td>CEU PARELHEIROS</td>\n",
       "      <td>NaN</td>\n",
       "      <td>PARELHEIROS</td>\n",
       "      <td>EDUCAÇÃO</td>\n",
       "      <td>Carolina Maria de Jesus foi uma escritora mine...</td>\n",
       "    </tr>\n",
       "    <tr>\n",
       "      <th>7412</th>\n",
       "      <td>SALA PAULO GUSTAVO</td>\n",
       "      <td>Centro Cultural Municipal Olido</td>\n",
       "      <td>NaN</td>\n",
       "      <td>SÉ</td>\n",
       "      <td>CULTURA</td>\n",
       "      <td>Paulo Gustavo:  ator, comediante, roteirista, ...</td>\n",
       "    </tr>\n",
       "    <tr>\n",
       "      <th>7413</th>\n",
       "      <td>ESTÁDIO DE GATEBALL TORU HONDO</td>\n",
       "      <td>Rua Lussanvira  178 Vila Guarani</td>\n",
       "      <td>V. GUARANI (JABAQUARA)</td>\n",
       "      <td>JABAQUARA</td>\n",
       "      <td>ESPORTES E LAZER</td>\n",
       "      <td>Toru Hondo, brasileiro naturalizado, nascido n...</td>\n",
       "    </tr>\n",
       "  </tbody>\n",
       "</table>\n",
       "<p>3778 rows × 6 columns</p>\n",
       "</div>"
      ]
     },
     "metadata": {},
     "execution_count": 21
    }
   ],
   "metadata": {}
  },
  {
   "cell_type": "code",
   "execution_count": 22,
   "source": [
    "## Salvando resultados\n",
    "df.reset_index().rename(columns={'id':'fid'}).to_csv('dados/enderecos-limpos.csv')"
   ],
   "outputs": [],
   "metadata": {}
  },
  {
   "cell_type": "code",
   "execution_count": null,
   "source": [],
   "outputs": [],
   "metadata": {}
  }
 ],
 "metadata": {
  "kernelspec": {
   "name": "python3",
   "display_name": "Python 3.8.11 64-bit ('geo': conda)"
  },
  "language_info": {
   "codemirror_mode": {
    "name": "ipython",
    "version": 3
   },
   "file_extension": ".py",
   "mimetype": "text/x-python",
   "name": "python",
   "nbconvert_exporter": "python",
   "pygments_lexer": "ipython3",
   "version": "3.8.11"
  },
  "interpreter": {
   "hash": "1e94f94c3dc9cb9ecdb50465f759d70d8afbee71b2fe12a78bdcd721d76e1ec6"
  }
 },
 "nbformat": 4,
 "nbformat_minor": 5
}